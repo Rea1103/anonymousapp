{
 "cells": [
  {
   "cell_type": "markdown",
   "metadata": {},
   "source": [
    "# Using mysql.connector\n",
    "\n",
    "\n",
    "#### Requirements:\n",
    "- ``pip install mysql.connector``\n",
    "- know your host, database, user & password\n",
    "\n",
    "Open source:\n",
    "https://pynative.com/python-mysql-database-connection/\n",
    "\n",
    "Youtube tutorial:\n",
    "- https://www.youtube.com/watch?v=3vsC05rxZ8c\n",
    "- https://www.youtube.com/watch?v=OTzL0oH-ZGI"
   ]
  },
  {
   "cell_type": "code",
   "execution_count": 20,
   "metadata": {},
   "outputs": [
    {
     "name": "stdout",
     "output_type": "stream",
     "text": [
      "Connected to MySQL Server version  5.5.5-10.4.11-MariaDB\n",
      "You're connected to database:  ('test',)\n",
      "MySQL connection is closed\n"
     ]
    }
   ],
   "source": [
    "#A check if you've establsihed the connection\n",
    "import mysql.connector\n",
    "from mysql.connector import Error\n",
    "\n",
    "try:\n",
    "    connection = mysql.connector.connect(host='localhost',\n",
    "                                    database='test',\n",
    "                                    user='root',\n",
    "                                    password='')\n",
    "    if connection.is_connected():\n",
    "        db_Info = connection.get_server_info()\n",
    "        print(\"Connected to MySQL Server version \", db_Info)\n",
    "        cursor = connection.cursor()\n",
    "        cursor.execute(\"select database();\")\n",
    "        record = cursor.fetchone()\n",
    "        print(\"You're connected to database: \", record)\n",
    "\n",
    "except Error as e:\n",
    "    print(\"Error while connecting to MySQL\", e)\n",
    "finally:\n",
    "    if (connection.is_connected()):\n",
    "        cursor.close()\n",
    "        connection.close()\n",
    "        print(\"MySQL connection is closed\")"
   ]
  },
  {
   "cell_type": "code",
   "execution_count": 33,
   "metadata": {},
   "outputs": [
    {
     "name": "stdout",
     "output_type": "stream",
     "text": [
      "Connected to MySQL Server version  5.5.5-10.4.11-MariaDB\n",
      "(1, Decimal('2.00'), Decimal('3.00'), Decimal('1.00'), Decimal('2.40'), 100, None)\n",
      "(2, Decimal('3.00'), Decimal('3.00'), Decimal('5.00'), Decimal('9.40'), 300, None)\n",
      "(8, Decimal('4.00'), Decimal('2.00'), Decimal('1.00'), Decimal('2.40'), 200, datetime.date(2021, 3, 1))\n"
     ]
    }
   ],
   "source": [
    "import mysql.connector\n",
    "\n",
    "\n",
    "connection = mysql.connector.connect(host='localhost',\n",
    "                                    database='test',\n",
    "                                    user='root',\n",
    "                                    password='')\n",
    "\n",
    "if connection.is_connected():\n",
    "        db_Info = connection.get_server_info()\n",
    "        print(\"Connected to MySQL Server version \", db_Info)\n",
    "        print()\n",
    "        \n",
    "mycursor = connection.cursor()\n",
    "\n",
    "mycursor.execute(\"INSERT INTO prices(close_price, high, low, open_price, volume, day_value) VALUES (4.00, 2.00, 1.00, 2.40, 200.00, '2021-03-01')\")\n",
    "connection.commit() #to permanently change the data\n",
    "\n",
    "#How to select everything & print them\n",
    "mycursor.execute('SELECT * FROM prices')\n",
    "\n",
    "for x in mycursor:\n",
    "    print(x)"
   ]
  },
  {
   "cell_type": "code",
   "execution_count": 10,
   "metadata": {},
   "outputs": [
    {
     "name": "stdout",
     "output_type": "stream",
     "text": [
      "Connected to MySQL Server version  5.5.5-10.4.11-MariaDB\n",
      "\n",
      "0\n",
      "1\n"
     ]
    }
   ],
   "source": [
    "import mysql.connector\n",
    "\n",
    "\n",
    "connection = mysql.connector.connect(host='localhost',\n",
    "                                    database='test',\n",
    "                                    user='root',\n",
    "                                    password='')\n",
    "\n",
    "if connection.is_connected():\n",
    "        db_Info = connection.get_server_info()\n",
    "        print(\"Connected to MySQL Server version \", db_Info)\n",
    "        print()\n",
    "        \n",
    "cursor = connection.cursor()\n",
    "\n",
    "cursor.execute('SELECT * FROM `prices` WHERE id = 5 AND high = 3.00')\n",
    "results = len(cursor.fetchall()) # returns empty list for negative results -> len = 0\n",
    "print(results)\n",
    "\n",
    "cursor.execute('SELECT * FROM `prices` WHERE id = 2 AND high = 3.00')\n",
    "results = len(cursor.fetchall()) #returns tuple inside the list -> len = 1\n",
    "print(results)"
   ]
  },
  {
   "cell_type": "markdown",
   "metadata": {},
   "source": [
    "# Workbench"
   ]
  },
  {
   "cell_type": "code",
   "execution_count": 21,
   "metadata": {},
   "outputs": [
    {
     "name": "stdout",
     "output_type": "stream",
     "text": [
      "Connected to MySQL Server version  5.5.5-10.4.11-MariaDB\n",
      "\n",
      "Sign up or log in (a/b): b\n",
      "Enter username: anonymous buffalo\n",
      "Enter password: hiJkl_78\n",
      "1\n",
      "Welcome !\n",
      "True\n"
     ]
    }
   ],
   "source": [
    "import mysql.connector #https://www.youtube.com/watch?v=OTzL0oH-ZGI\n",
    "import re\n",
    "import uuid\n",
    "import random\n",
    "\n",
    "\n",
    "connection = mysql.connector.connect(host='localhost',\n",
    "                                    database='test',\n",
    "                                    user='root',\n",
    "                                    password='')\n",
    "\n",
    "#a check to check for connection\n",
    "if connection.is_connected():\n",
    "        db_Info = connection.get_server_info()\n",
    "        print(\"Connected to MySQL Server version \", db_Info)\n",
    "        print()\n",
    "        \n",
    "cursor = connection.cursor()\n",
    "\n",
    "# Log in\n",
    "def login():\n",
    "    while True:\n",
    "        username = input('Enter username: ')\n",
    "        password = input('Enter password: ')\n",
    "        find_user = 'SELECT * FROM `users` WHERE username = %s AND password = %s'\n",
    "        cursor.execute (find_user, (username, password, ))\n",
    "        results = len(cursor.fetchall()) #len = 1 if data found, else len = 0\n",
    "        \n",
    "        if results == 1:\n",
    "            print('Welcome !')\n",
    "            return True\n",
    "        \n",
    "        else:\n",
    "            print('Username and password not recognised')\n",
    "            again = input('Do you want to try again? (y/n): ')\n",
    "            if again.lower() == 'n':\n",
    "                print('Goodbye')\n",
    "                break\n",
    "\n",
    "\n",
    "# Sign up & log in:\n",
    "pattern1 = '^[a-z0-9]+[\\._]?[a-z0-9]+[@]\\w+[.]\\w{2,3}$'\n",
    "animal=['alligator', 'anteater', 'armadillo', 'auroch', 'axolotl', 'badger', 'bat', 'bear', 'beaver', 'blobfish', 'buffalo', 'camel', 'chameleon', 'cheetah', 'chipmunk', 'chinchilla', 'chupacabra', 'cormorant', 'coyote', 'crow', 'dingo', 'dinosaur', 'dolphin', 'duck', 'octopus', 'elephant', 'ferret', ' fox', ' frog', 'giraffe', 'goose', 'gopher', 'grizzly', 'hamster', 'hedgehog', 'hippo', 'hyena', 'jackal', 'jackalope', 'ibex', 'iguana', 'kangaroo', 'kiwi', 'koala', 'kraken', ' lemur', ' leopard', ' liger', ' lion', 'llama', 'manatee', 'mink', 'monkey', 'moose', 'narwhal', 'orangutan', 'otter', 'panda', 'penguin', 'platypus', 'python', 'pumpkin', 'quagga', 'quokka', 'rabbit', 'raccoon', 'rhino', 'sheep', 'shrew', 'skunk', 'slow loris', 'squirrel', 'tiger', 'turtle', 'unicorn', 'walrus', 'wolf', 'wolverine', 'wombat', 'phalaropes', 'armadillo', 'kingfisher', 'okapi', 'quoll', 'springhare', 'nyan cat', 'minokawa', 'dragon', 'phoenix', 'griffin', 'leviathan', 'cerberus', 'manticore', 'merlion', 'yeti', 'satori', 'chimera', 'sea horse', 'pegasus', 'sphinx']\n",
    "#len(animal) = 100\n",
    "\n",
    "def check_email(email):\n",
    "    if(re.search(pattern1,email)):  \n",
    "        #print(\"Valid Email\")\n",
    "        return (email, True)\n",
    "    else:\n",
    "        return False\n",
    "\n",
    "def sign_up():\n",
    "    email = input('Enter email: ').lower()\n",
    "    while check_email(email) == False:\n",
    "        print('Invalid email given.')\n",
    "        email = input('Please enter your email again or enter \\'q\\' to quit: ').lower() \n",
    "        if email == 'q':\n",
    "            break # still False\n",
    "    return check_email(email)\n",
    "\n",
    "def generate_username():\n",
    "    user_id = str(uuid.uuid1())\n",
    "    username = 'anonymous ' + random.choice(animal)\n",
    "    return (user_id, username)\n",
    "\n",
    "def check_password(password):\n",
    "    flag = 0\n",
    "    while True:\n",
    "        if (len(password)<8): \n",
    "            flag = -1\n",
    "            break\n",
    "        elif not re.search(\"[a-z]\", password): \n",
    "            flag = -1\n",
    "            break\n",
    "        elif not re.search(\"[A-Z]\", password): \n",
    "            flag = -1\n",
    "            break\n",
    "        elif not re.search(\"[0-9]\", password): \n",
    "            flag = -1\n",
    "            break\n",
    "        elif not re.search(\"[_@$]\", password): \n",
    "            flag = -1\n",
    "            break\n",
    "        elif re.search(\"\\s\", password): # to check for spaces\n",
    "            flag = -1\n",
    "            break\n",
    "        else: \n",
    "            flag = 0\n",
    "            print(\"Valid Password\") \n",
    "            return (password, True)\n",
    "            break\n",
    "            \n",
    "    if flag == -1:\n",
    "        return False\n",
    "         \n",
    "\n",
    "#main\n",
    "start = input('Sign up or log in (a/b): ')\n",
    "if start == 'a':\n",
    "    if sign_up():\n",
    "        user_id, username = generate_username()\n",
    "        print('Your user name is:', username)\n",
    "        password = input('Enter your password: ')\n",
    "        check_password(password)\n",
    "        while check_password(password) == False:\n",
    "            print(\"Not a Valid Password\")\n",
    "            password = input('Please re-enter your password or enter \\'q\\' to quit: ')\n",
    "            if password.lower() == 'q':\n",
    "                break\n",
    "else:\n",
    "    print(login())"
   ]
  },
  {
   "cell_type": "code",
   "execution_count": 7,
   "metadata": {},
   "outputs": [
    {
     "name": "stdout",
     "output_type": "stream",
     "text": [
      "Connected to MySQL Server version  5.5.5-10.4.11-MariaDB\n",
      "\n",
      "Sign up or log in (a/b): a\n",
      "Enter email: ANKitrai326@gmail.com\n",
      "Your user name is: anonymous chameleon\n",
      "Enter your password: Abcdef@123\n"
     ]
    }
   ],
   "source": [
    "#improvement 2\n",
    "import mysql.connector #https://www.youtube.com/watch?v=OTzL0oH-ZGI\n",
    "import re\n",
    "import uuid\n",
    "import random\n",
    "\n",
    "\n",
    "connection = mysql.connector.connect(host='localhost',\n",
    "                                    database='test',\n",
    "                                    user='root',\n",
    "                                    password='')\n",
    "\n",
    "#a check to check for connection\n",
    "if connection.is_connected():\n",
    "        db_Info = connection.get_server_info()\n",
    "        print(\"Connected to MySQL Server version \", db_Info)\n",
    "        print()\n",
    "        \n",
    "cursor = connection.cursor()\n",
    "\n",
    "# Log in\n",
    "def login():\n",
    "    while True:\n",
    "        username = input('Enter username: ')\n",
    "        password = input('Enter password: ')\n",
    "        find_user = 'SELECT * FROM `users` WHERE username = %s AND password = %s'\n",
    "        cursor.execute (find_user, (username, password, ))\n",
    "        results = len(cursor.fetchall()) #len = 1 if data found, else len = 0\n",
    "        \n",
    "        if results == 1:\n",
    "            print('Welcome !')\n",
    "            return True\n",
    "        \n",
    "        else:\n",
    "            print('Username and password not recognised')\n",
    "            again = input('Do you want to try again? (y/n): ')\n",
    "            if again.lower() == 'n':\n",
    "                print('Goodbye')\n",
    "                break\n",
    "\n",
    "\n",
    "# Sign up & log in:\n",
    "pattern1 = '^[a-z0-9]+[\\._]?[a-z0-9]+[@]\\w+[.]\\w{2,3}$'\n",
    "animal=['alligator', 'anteater', 'armadillo', 'auroch', 'axolotl', 'badger', 'bat', 'bear', 'beaver', 'blobfish', 'buffalo', 'camel', 'chameleon', 'cheetah', 'chipmunk', 'chinchilla', 'chupacabra', 'cormorant', 'coyote', 'crow', 'dingo', 'dinosaur', 'dolphin', 'duck', 'octopus', 'elephant', 'ferret', ' fox', ' frog', 'giraffe', 'goose', 'gopher', 'grizzly', 'hamster', 'hedgehog', 'hippo', 'hyena', 'jackal', 'jackalope', 'ibex', 'iguana', 'kangaroo', 'kiwi', 'koala', 'kraken', ' lemur', ' leopard', ' liger', ' lion', 'llama', 'manatee', 'mink', 'monkey', 'moose', 'narwhal', 'orangutan', 'otter', 'panda', 'penguin', 'platypus', 'python', 'pumpkin', 'quagga', 'quokka', 'rabbit', 'raccoon', 'rhino', 'sheep', 'shrew', 'skunk', 'slow loris', 'squirrel', 'tiger', 'turtle', 'unicorn', 'walrus', 'wolf', 'wolverine', 'wombat', 'phalaropes', 'armadillo', 'kingfisher', 'okapi', 'quoll', 'springhare', 'nyan cat', 'minokawa', 'dragon', 'phoenix', 'griffin', 'leviathan', 'cerberus', 'manticore', 'merlion', 'yeti', 'satori', 'chimera', 'sea horse', 'pegasus', 'sphinx']\n",
    "#len(animal) = 100\n",
    "\n",
    "def check_email(email):\n",
    "    if(re.search(pattern1,email)):  \n",
    "        #print(\"Valid Email\")\n",
    "        return (email, True)\n",
    "    else:\n",
    "        return False\n",
    "\n",
    "def generate_username():\n",
    "    user_id = str(uuid.uuid1())\n",
    "    username = 'anonymous ' + random.choice(animal)\n",
    "    return (user_id, username)\n",
    "\n",
    "def check_password(password):\n",
    "    flag = 0\n",
    "    while True:\n",
    "        if (len(password)<8): \n",
    "            flag = -1\n",
    "            break\n",
    "        elif not re.search(\"[a-z]\", password): \n",
    "            flag = -1\n",
    "            break\n",
    "        elif not re.search(\"[A-Z]\", password): \n",
    "            flag = -1\n",
    "            break\n",
    "        elif not re.search(\"[0-9]\", password): \n",
    "            flag = -1\n",
    "            break\n",
    "        elif not re.search(\"[_@$]\", password): \n",
    "            flag = -1\n",
    "            break\n",
    "        elif re.search(\"\\s\", password): # to check for spaces\n",
    "            flag = -1\n",
    "            break\n",
    "        else: \n",
    "            flag = 0\n",
    "            return (password, True)\n",
    "            #break\n",
    "            \n",
    "    if flag == -1:\n",
    "        return False\n",
    "\n",
    "def sign_up():\n",
    "    email = input('Enter email: ').lower()\n",
    "    while check_email(email) == False:\n",
    "        print('Invalid email given.')\n",
    "        email = input('Please enter your email again or enter \\'q\\' to quit: ').lower() \n",
    "        if email == 'q':\n",
    "            break # still False\n",
    "            \n",
    "    if check_email(email)[1] == True:\n",
    "        email = check_email(email)[0]\n",
    "    \n",
    "    user_id, username = generate_username()\n",
    "    print('Your user name is:', username)\n",
    "    \n",
    "    password = input('Enter your password: ')\n",
    "    check_password(password)\n",
    "    while check_password(password) == False:\n",
    "        print(\"Not a Valid Password\")\n",
    "        password = input('Please re-enter your password or enter \\'q\\' to quit: ')\n",
    "        if password.lower() == 'q':\n",
    "            break\n",
    "    if check_password(password)[1] == True:\n",
    "        password = check_password(password)[0]\n",
    "        \n",
    "    insert_user = 'INSERT INTO users (user_id, email, username, password) VALUES (%s, %s, %s, %s)'\n",
    "    cursor.execute (insert_user, (user_id, email, username, password, ))\n",
    "    connection.commit()\n",
    "         \n",
    "\n",
    "#main\n",
    "start = input('Sign up or log in (a/b): ')\n",
    "if start == 'a':\n",
    "    sign_up()\n",
    "else:\n",
    "    print(login())"
   ]
  },
  {
   "cell_type": "code",
   "execution_count": 8,
   "metadata": {},
   "outputs": [
    {
     "name": "stdout",
     "output_type": "stream",
     "text": [
      "hello\n"
     ]
    }
   ],
   "source": [
    "a = ('hi', 'hello')\n",
    "print(a[1])"
   ]
  },
  {
   "cell_type": "markdown",
   "metadata": {},
   "source": [
    "# Connecting python with PYODBC library\n",
    "\n",
    "### Information required:\n",
    "- Server name\n",
    "- Database name"
   ]
  },
  {
   "cell_type": "code",
   "execution_count": 1,
   "metadata": {},
   "outputs": [
    {
     "name": "stdout",
     "output_type": "stream",
     "text": [
      "SQL Server\n",
      "SQL Server Native Client 11.0\n",
      "ODBC Driver 17 for SQL Server\n"
     ]
    }
   ],
   "source": [
    "import pyodbc #is currently uninstalled\n",
    "\n",
    "#looping through all the drivers we have access to\n",
    "for driver in pyodbc.drivers():\n",
    "    print(driver)"
   ]
  },
  {
   "cell_type": "markdown",
   "metadata": {},
   "source": [
    "# Email validation using regular expressions\n",
    "\n",
    "cheat sheet:\n",
    "https://cheatography.com/mutanclan/cheat-sheets/python-regular-expression-regex/\n",
    "\n",
    "\n",
    "Email examples:\n",
    "(yourname) @ (domain) . (extension) (.again) -> (theboss) @ (thenetninja) . (co) . (uk)\n",
    "\n",
    "- (yourname): any letters, numbers, dots & hyphens\n",
    "- (domain): any letters, numbers & hyphens\n",
    "- (extension): any letters\n",
    "- (.again): a dot then any letters"
   ]
  },
  {
   "cell_type": "code",
   "execution_count": 11,
   "metadata": {},
   "outputs": [
    {
     "name": "stdout",
     "output_type": "stream",
     "text": [
      "Valid Email\n",
      "Valid Email\n",
      "Invalid Email\n"
     ]
    }
   ],
   "source": [
    "import re\n",
    "\n",
    "regex = '^[a-z0-9]+[\\._]?[a-z0-9]+[@]\\w+[.]\\w{2,3}$'\n",
    "\n",
    "\n",
    "def check(email):\n",
    "    if(re.search(regex,email)):  \n",
    "        print(\"Valid Email\")  \n",
    "    else:  \n",
    "        print(\"Invalid Email\")  \n",
    "      \n",
    "  \n",
    "# Driver Code  \n",
    "if __name__ == '__main__' :  \n",
    "      \n",
    "    # Enter the email  \n",
    "    email = r\"ANKitrai326@gmail.com\".lower()\n",
    "      \n",
    "    # calling run function  \n",
    "    check(email) \n",
    "  \n",
    "    email = r\"my.ownsite@ourearth.org\"\n",
    "    check(email) \n",
    "  \n",
    "    email = r\"ankitrai326.com\"\n",
    "    check(email) "
   ]
  },
  {
   "cell_type": "markdown",
   "metadata": {},
   "source": [
    "# Using UUID to generate unique user id\n",
    "\n",
    "https://docs.python.org/3/library/uuid.html"
   ]
  },
  {
   "cell_type": "code",
   "execution_count": 20,
   "metadata": {},
   "outputs": [
    {
     "name": "stdout",
     "output_type": "stream",
     "text": [
      "36\n"
     ]
    }
   ],
   "source": [
    "import uuid\n",
    "\n",
    "#print(str(uuid.uuid1())[0:8])\n",
    "#print(str(uuid.uuid4())[0:8])\n",
    "\n",
    "print(len(str(uuid.uuid4())))\n",
    "#9a66aa6e\n",
    "#6517d8c1"
   ]
  },
  {
   "cell_type": "markdown",
   "metadata": {},
   "source": [
    "# Password validation\n",
    "\n",
    "Primary conditions for a valid password:\n",
    "- minimum 8 characters\n",
    "- letters between [a-z]\n",
    "- minimally 1 upper case character [A-Z]\n",
    "- minimally 1 number between [0-9]\n",
    "- minimally 1 characher from [_ @ $]\n"
   ]
  },
  {
   "cell_type": "code",
   "execution_count": 2,
   "metadata": {},
   "outputs": [
    {
     "name": "stdout",
     "output_type": "stream",
     "text": [
      "Valid Password\n"
     ]
    }
   ],
   "source": [
    "import re \n",
    "password = \"aBc123#8\"\n",
    "flag = 0\n",
    "while True:   \n",
    "    if (len(password)<8): \n",
    "        flag = -1\n",
    "        break\n",
    "    elif not re.search(\"[a-z]\", password): \n",
    "        flag = -1\n",
    "        break\n",
    "    elif not re.search(\"[A-Z]\", password): \n",
    "        flag = -1\n",
    "        break\n",
    "    elif not re.search(\"[0-9]\", password): \n",
    "        flag = -1\n",
    "        break\n",
    "    elif not re.search(\"[_@$#]\", password): \n",
    "        flag = -1\n",
    "        break\n",
    "    elif re.search(\"\\s\", password): # to check for spaces\n",
    "        flag = -1\n",
    "        break\n",
    "    else: \n",
    "        flag = 0\n",
    "        print(\"Valid Password\") \n",
    "        break\n",
    "  \n",
    "if flag ==-1: \n",
    "    print(\"Not a Valid Password\") "
   ]
  },
  {
   "cell_type": "markdown",
   "metadata": {},
   "source": [
    "# Name list:\n",
    "\n",
    "alligator, anteater, armadillo, auroch, axolotl, badger, bat, bear, \n",
    "beaver, blobfish, buffalo, camel, chameleon, cheetah, chipmunk, chinchilla, chupacabra, \n",
    "cormorant, coyote, crow, dingo, dinosaur, dog, dolphin, duck, dumbo octopus, elephant, \n",
    "ferret, fox, frog, giraffe, goose, gopher, grizzly, hamster, hedgehog, hippo, hyena, jackal, \n",
    "jackalope, ibex, iguana, kangaroo, kiwi, koala, kraken, lemur, leopard, liger, lion, \n",
    "llama, manatee, mink, monkey, moose, narwhal, orangutan, otter, panda, penguin, \n",
    "platypus, python, pumpkin, quagga, quokka, rabbit, raccoon, rhino, sheep, \n",
    "shrew, skunk, slow loris, squirrel, tiger, turtle, unicorn, walrus, wolf, wolverine, wombat\n",
    "phalaropes, armadillo, kingfisher, okapi, quoll, springhare\n",
    "\n",
    "nyan cat,\n",
    "\n",
    "minokawa, dragon, phoenix, griffin, leviathan, cerberus, manticore, merlion, yeti, satori,\n",
    "chimera, sea horse, pegasus, sphinx, kraken"
   ]
  }
 ],
 "metadata": {
  "kernelspec": {
   "display_name": "Python 3",
   "language": "python",
   "name": "python3"
  },
  "language_info": {
   "codemirror_mode": {
    "name": "ipython",
    "version": 3
   },
   "file_extension": ".py",
   "mimetype": "text/x-python",
   "name": "python",
   "nbconvert_exporter": "python",
   "pygments_lexer": "ipython3",
   "version": "3.8.2"
  }
 },
 "nbformat": 4,
 "nbformat_minor": 4
}
